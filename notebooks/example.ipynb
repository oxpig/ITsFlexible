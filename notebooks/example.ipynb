{
 "cells": [
  {
   "cell_type": "markdown",
   "metadata": {},
   "source": [
    "### Example code to predict the flexibility of CDRs\n",
    "\n",
    "Import classifier"
   ]
  },
  {
   "cell_type": "code",
   "execution_count": 1,
   "metadata": {},
   "outputs": [],
   "source": [
    "from ITsFlexible import classify"
   ]
  },
  {
   "cell_type": "markdown",
   "metadata": {},
   "source": [
    "Classify using the AbFlex loop classifier. Flexibility is defined by RMSD of the loop after alignment on loop residues."
   ]
  },
  {
   "cell_type": "code",
   "execution_count": null,
   "metadata": {},
   "outputs": [],
   "source": [
    "df = classify(infile='../data/CDRH3_test_align_loop.csv', predictor='loop')\n",
    "\n",
    "# to run on Mac use accelerator cpu\n",
    "df = classify(infile='../data/CDRH3_test_align_loop.csv', predictor='loop', accelerator='cpu')"
   ]
  },
  {
   "cell_type": "markdown",
   "metadata": {},
   "source": [
    "Classify using the AbFlex loop classifier. Flexibility is defined by RMSD of the loop after alignment on two anchor residues on either side of the loop."
   ]
  },
  {
   "cell_type": "code",
   "execution_count": null,
   "metadata": {},
   "outputs": [],
   "source": [
    "df = classify(infile='../data/CDRH3_test_align_Fv.csv', predictor='anchors')"
   ]
  }
 ],
 "metadata": {
  "kernelspec": {
   "display_name": "ITsFlexble_env",
   "language": "python",
   "name": "python3"
  },
  "language_info": {
   "codemirror_mode": {
    "name": "ipython",
    "version": 3
   },
   "file_extension": ".py",
   "mimetype": "text/x-python",
   "name": "python",
   "nbconvert_exporter": "python",
   "pygments_lexer": "ipython3",
   "version": "3.10.13"
  }
 },
 "nbformat": 4,
 "nbformat_minor": 2
}
